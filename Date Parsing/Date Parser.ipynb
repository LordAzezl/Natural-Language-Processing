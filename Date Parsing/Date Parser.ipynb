{
 "cells": [
  {
   "cell_type": "code",
   "execution_count": 22,
   "metadata": {},
   "outputs": [],
   "source": [
    "import pandas as pd\n",
    "import re\n",
    "from datetime import datetime"
   ]
  },
  {
   "cell_type": "code",
   "execution_count": 23,
   "metadata": {},
   "outputs": [],
   "source": [
    "# Load the dataset\n",
    "df = pd.read_csv('/Users/harshmahadik/Downloads/SEM VII/SNLP/date_parser_testcases.csv')"
   ]
  },
  {
   "cell_type": "code",
   "execution_count": 24,
   "metadata": {},
   "outputs": [],
   "source": [
    "# Initialize counters and lists\n",
    "match_count = 0\n",
    "matched_indexes = []"
   ]
  },
  {
   "cell_type": "code",
   "execution_count": 25,
   "metadata": {},
   "outputs": [],
   "source": [
    "# Define regex pattern for simple date formats\n",
    "simple_date_pattern = r'\\b\\d{1,2}[./-]\\d{1,2}[./-]\\d{2,4}\\b'"
   ]
  },
  {
   "cell_type": "code",
   "execution_count": 26,
   "metadata": {},
   "outputs": [
    {
     "name": "stdout",
     "output_type": "stream",
     "text": [
      "Her birthday is on 07/08/1990.\n",
      "Let's catch up on 02.04.2022.\n",
      "The project started on 5/6/19.\n",
      "They got married on 12/12/12.\n",
      "Submit your report by 08/31/2021.\n",
      "The new year begins on 01-01-2023.\n",
      "The seminar is on 03/14/2022.\n",
      "My last day is 31.08.2020.\n",
      "They moved in on 12/25/2019.\n",
      "The ceremony is on 11.11.2021.\n",
      "The interview is on 1/2/2022.\n",
      "The opening is on 10/10/2018.\n",
      "The party is on 31-12-2022.\n",
      "Vacation starts on 07/15/2021.\n",
      "The closing date is 08/08/2020.\n",
      "The exam is on 01.01.2022.\n",
      "Her birthday, which she celebrates on 07/08/1990, is coming up soon.\n",
      "Remember, the meeting is on 02.04.2022 at 10 AM.\n",
      "Let's wrap up the project by 5/6/19, so we can relax.\n",
      "They celebrated their wedding on 12/12/12 in grand style.\n",
      "The submission deadline, noted as 08/31/2021, is fast approaching.\n",
      "The new year's celebration begins on 01-01-2023 at midnight.\n",
      "We scheduled the seminar for 03/14/2022, don't forget.\n",
      "My final working day here is noted as 31.08.2020.\n",
      "They officially moved in on 12/25/2019.\n",
      "The ceremony date is fixed as 11.11.2021.\n",
      "The job interview is on 1/2/2022, don't be late.\n",
      "The official opening date is 10/10/2018, as per the announcement.\n",
      "The New Year's Eve party is on 31-12-2022, join us!\n",
      "Vacation officially starts on 07/15/2021, get ready.\n",
      "The registration closing date is 08/08/2020.\n",
      "The exam will be held on 01.01.2022, start preparing.\n"
     ]
    }
   ],
   "source": [
    "# Identify simple date formats\n",
    "for index in range(len(df)):\n",
    "    text_entry = df['Input'][index]\n",
    "    if re.search(simple_date_pattern, text_entry):\n",
    "        print(text_entry)\n",
    "        matched_indexes.append(index)\n",
    "        match_count += 1"
   ]
  },
  {
   "cell_type": "code",
   "execution_count": 27,
   "metadata": {},
   "outputs": [
    {
     "name": "stdout",
     "output_type": "stream",
     "text": [
      "Initial Match Percentage: 0.32\n"
     ]
    }
   ],
   "source": [
    "# Calculate initial match percentage\n",
    "initial_match_percentage = match_count / len(df)\n",
    "print(f'Initial Match Percentage: {initial_match_percentage:.2f}')"
   ]
  },
  {
   "cell_type": "code",
   "execution_count": 28,
   "metadata": {},
   "outputs": [
    {
     "name": "stdout",
     "output_type": "stream",
     "text": [
      "Maybe Matches: {'The event will take place on March 5, 2023.': 'March', 'We met on 1st of January 2000.': 'January', 'The concert is scheduled for 15th September, 2021.': 'September,', 'Christmas is on 25th Dec 2024.': 'Dec', 'The meeting is set for April 03, 2020.': 'April', 'Her appointment is on the 2nd of March, 2021.': 'March,', 'The workshop is on February 15th, 2022.': 'February', 'The course starts on 1st July 2023.': 'July', 'Independence Day is on 4th of July, 2022.': 'July,', 'The holiday starts on Dec 20th, 2021.': 'Dec', 'The conference will be held on 5th May 2023.': 'May', 'The festival begins on March 17, 2022.': 'March', 'Her graduation is on May 30th, 2022.': 'May', 'His wedding is on 6th of August, 2020.': 'August,', 'She was born on 3rd March 1998.': 'March', 'The workshop is on February 29, 2024.': 'February', 'The tournament is on June 1st, 2021.': 'June', 'The last date is 30th November 2022.': 'November', 'The conference is on 15th October 2023.': 'October', 'The festival is on 12th August 2024.': 'August', 'We are planning to meet on March 5, 2023, for lunch.': 'March', 'We first met on the 1st of January 2000 at the conference.': 'January', 'The concert, happening on 15th September 2021, will be amazing.': 'September', 'We celebrate Christmas every year on 25th Dec, including 2024.': 'Dec,', 'The meeting is rescheduled to April 03, 2020, as per the latest update.': 'April', 'Their anniversary is marked on the 2nd of March, 2021.': 'March,', 'Our next workshop is scheduled for February 15th, 2022.': 'February', 'The course officially begins on 1st July 2023.': 'July', 'We celebrate Independence Day on the 4th of July every year, including 2022.': 'July', 'The holiday vacation starts on Dec 20th, 2021, for everyone.': 'Dec', 'The conference, marked for 5th May 2023, is a significant event.': 'May', 'Our festival starts on March 17, 2022, with a parade.': 'March', 'The big event is planned for 2023/07/04, so mark your calendars.': 'mark', 'Her graduation day is set for May 30th, 2022.': 'May', 'The wedding is on 6th of August, 2020, in the evening.': 'August,', 'She mentioned she was born on the 3rd of March 1998.': 'March', 'The next workshop is on February 29, 2024, due to the leap year.': 'February', 'The tournament begins on June 1st, 2021, early in the morning.': 'June', 'The final date for submission is 30th November 2022.': 'November', 'The annual conference is on 15th October 2023, mark your calendars.': 'mark', 'The festival will be celebrated on 12th August 2024, with grand events.': 'August'}\n"
     ]
    }
   ],
   "source": [
    "# Handle dates with month names\n",
    "maybe_matches = {}\n",
    "for index, text in enumerate(df['Input']):\n",
    "    if index not in matched_indexes:\n",
    "        words = text.split()\n",
    "        for word in words:\n",
    "            if re.search(r'(jan ?|feb ?|mar ?|apr ?|may ?|june ?|jul ?|aug ?|sep ?|oct ?|nov ?|dec ?)', word.lower()):\n",
    "                maybe_matches[text] = word\n",
    "\n",
    "print(f'Maybe Matches: {maybe_matches}')"
   ]
  },
  {
   "cell_type": "code",
   "execution_count": 29,
   "metadata": {},
   "outputs": [],
   "source": [
    "# Convert month abbreviations to numbers\n",
    "def month_name_to_number(month_name):\n",
    "    months = {\n",
    "        \"jan\": \"01\", \"january\": \"01\",\n",
    "        \"feb\": \"02\", \"february\": \"02\",\n",
    "        \"mar\": \"03\", \"march\": \"03\",\n",
    "        \"apr\": \"04\", \"april\": \"04\",\n",
    "        \"may\": \"05\",\n",
    "        \"jun\": \"06\", \"june\": \"06\",\n",
    "        \"jul\": \"07\", \"july\": \"07\",\n",
    "        \"aug\": \"08\", \"august\": \"08\",\n",
    "        \"sep\": \"09\", \"september\": \"09\",\n",
    "        \"oct\": \"10\", \"october\": \"10\",\n",
    "        \"nov\": \"11\", \"november\": \"11\",\n",
    "        \"dec\": \"12\", \"december\": \"12\"\n",
    "    }\n",
    "    return months.get(month.lower(), None)"
   ]
  },
  {
   "cell_type": "code",
   "execution_count": 30,
   "metadata": {},
   "outputs": [],
   "source": [
    "# Ensure two-digit year\n",
    "def format_year(year):\n",
    "    if len(year) == 2:\n",
    "        if int(year) <= int(str(pd.Timestamp.now().year)[-2:]):\n",
    "            return \"20\" + year  \n",
    "        else:\n",
    "            return \"19\" + year \n",
    "    return year"
   ]
  },
  {
   "cell_type": "code",
   "execution_count": 31,
   "metadata": {},
   "outputs": [],
   "source": [
    "def parse_date(text):\n",
    "    patterns = [\n",
    "        r\"(\\d{1,2})(st|nd|rd|th)?\\s+of\\s+([A-Za-z]+)\\s*,?\\s*(\\d{4})\",\n",
    "        r\"(\\d{1,2})(st|nd|rd|th)?\\s+of\\s+([A-Za-z]+)\\s+(\\d{4})\",\n",
    "        r\"(\\d{1,2})(st|nd|rd|th)?\\s+([A-Za-z]+)\\s*,?\\s*(\\d{4})\", \n",
    "        r\"([A-Za-z]+)\\s+(\\d{1,2})(st|nd|rd|th)?\\s*,?\\s*(\\d{4})\",  \n",
    "        r\"(\\d{1,2})/(\\d{1,2})/(\\d{4})\",  \n",
    "        r\"(\\d{1,2})-(\\d{1,2})-(\\d{4})\",  \n",
    "        r\"(\\d{1,2})\\.(\\d{1,2})\\.(\\d{4})\",  \n",
    "        r\"(\\d{4})/(\\d{1,2})/(\\d{1,2})\",  \n",
    "        r\"(\\d{4})-(\\d{1,2})-(\\d{1,2})\",  \n",
    "        r\"(\\d{1,2})/(\\d{1,2})/(\\d{2})\",  \n",
    "        r\"(\\d{4})\\.(\\d{1,2})\\.(\\d{1,2})\",\n",
    "        r\"([A-Za-z]+)\\s+(\\d{1,2})(st|nd|rd|th)?,?\\s+(\\d{4})\",  \n",
    "        r\"(\\d{4})\\s+([A-Za-z]+)\\s+(\\d{1,2})(st|nd|rd|th)?\"\n",
    "    ]\n",
    "    \n",
    "    for pattern in patterns:\n",
    "        match = re.search(pattern, text)\n",
    "        if match:\n",
    "            try:\n",
    "                if pattern == r\"(\\d{1,2})/(\\d{1,2})/(\\d{4})\":\n",
    "                    month, day, year = match.groups()\n",
    "                    month, day = month.zfill(2), day.zfill(2)\n",
    "                    return f\"{day}/{month}/{year}\"\n",
    "                \n",
    "                if pattern == r\"(\\d{1,2})(st|nd|rd|th)?\\s+of\\s+([A-Za-z]+)\\s*,?\\s*(\\d{4})\":\n",
    "                    day, month, year = match.groups()[0], match.groups()[2], match.groups()[3]\n",
    "                    day = day.zfill(2)  \n",
    "                    month = month_name_to_number(month)  \n",
    "                    return f\"{day}/{month}/{year}\"\n",
    "                \n",
    "                if pattern == r\"(\\d{1,2})(st|nd|rd|th)?\\s+of\\s+([A-Za-z]+)\\s+every\\s+year(?:,\\s+including\\s+(\\d{4}))?\":\n",
    "                    day, month, year = match.groups()[0], match.groups()[2], match.groups()[3]\n",
    "                    day = day.zfill(2)\n",
    "                    month = month_name_to_number(month)\n",
    "                    if not year:\n",
    "                        year = datetime.now().year\n",
    "                    else:\n",
    "                        year = ensure_full_year(year)\n",
    "                    return f\"{day}/{month}/{year}\"\n",
    "                \n",
    "                if len(match.groups()) == 4:  \n",
    "                    day = match.group(1) if pattern.startswith(r\"(\\d{1,2})\") else match.group(2)\n",
    "                    day = day.zfill(2)\n",
    "                    month = match.group(3) if pattern.startswith(r\"(\\d{1,2})\") else match.group(1)\n",
    "                    if month.isdigit():  \n",
    "                        month = month.zfill(2)\n",
    "                    else:  \n",
    "                        month = month_name_to_number(month)\n",
    "                    year = match.group(4) if pattern.startswith(r\"(\\d{1,2})\") else match.group(4)\n",
    "                else:  \n",
    "                    if pattern.startswith(r\"(\\d{4})\"):  \n",
    "                        year, month, day = match.group(1), match.group(2).zfill(2), match.group(3).zfill(2)\n",
    "                    else:  \n",
    "                        day, month, year = match.group(1).zfill(2), match.group(2).zfill(2), match.group(3)\n",
    "\n",
    "                if year and len(year) == 2:\n",
    "                    year = ensure_full_year(year)\n",
    "                if month and len(month) == 1:\n",
    "                    month = f\"0{month}\"\n",
    "                if day and len(day) == 1:\n",
    "                    day = f\"0{day}\"\n",
    "                \n",
    "                return f\"{day}/{month}/{year}\"\n",
    "            except Exception as e:\n",
    "                print(f\"Error parsing date '{text}': {e}\")\n",
    "    \n",
    "    return None"
   ]
  },
  {
   "cell_type": "code",
   "execution_count": 32,
   "metadata": {},
   "outputs": [
    {
     "name": "stdout",
     "output_type": "stream",
     "text": [
      "Error parsing date 'The event will take place on March 5, 2023.': name 'month' is not defined\n",
      "Error parsing date 'The event will take place on March 5, 2023.': name 'month' is not defined\n",
      "Error parsing date 'We met on 1st of January 2000.': name 'month' is not defined\n",
      "Error parsing date 'We met on 1st of January 2000.': name 'month' is not defined\n",
      "Error parsing date 'The concert is scheduled for 15th September, 2021.': name 'month' is not defined\n",
      "Error parsing date 'The project started on 5/6/19.': name 'ensure_full_year' is not defined\n",
      "Error parsing date 'Christmas is on 25th Dec 2024.': name 'month' is not defined\n",
      "Error parsing date 'The meeting is set for April 03, 2020.': name 'month' is not defined\n",
      "Error parsing date 'The meeting is set for April 03, 2020.': name 'month' is not defined\n",
      "Error parsing date 'Her appointment is on the 2nd of March, 2021.': name 'month' is not defined\n",
      "Error parsing date 'They got married on 12/12/12.': name 'ensure_full_year' is not defined\n",
      "Error parsing date 'The workshop is on February 15th, 2022.': name 'month' is not defined\n",
      "Error parsing date 'The workshop is on February 15th, 2022.': name 'month' is not defined\n",
      "Error parsing date 'The course starts on 1st July 2023.': name 'month' is not defined\n",
      "Error parsing date 'Independence Day is on 4th of July, 2022.': name 'month' is not defined\n",
      "Error parsing date 'The holiday starts on Dec 20th, 2021.': name 'month' is not defined\n",
      "Error parsing date 'The holiday starts on Dec 20th, 2021.': name 'month' is not defined\n",
      "Error parsing date 'The conference will be held on 5th May 2023.': name 'month' is not defined\n",
      "Error parsing date 'The festival begins on March 17, 2022.': name 'month' is not defined\n",
      "Error parsing date 'The festival begins on March 17, 2022.': name 'month' is not defined\n",
      "Error parsing date 'Her graduation is on May 30th, 2022.': name 'month' is not defined\n",
      "Error parsing date 'Her graduation is on May 30th, 2022.': name 'month' is not defined\n",
      "Error parsing date 'His wedding is on 6th of August, 2020.': name 'month' is not defined\n",
      "Error parsing date 'She was born on 3rd March 1998.': name 'month' is not defined\n",
      "Error parsing date 'The workshop is on February 29, 2024.': name 'month' is not defined\n",
      "Error parsing date 'The workshop is on February 29, 2024.': name 'month' is not defined\n",
      "Error parsing date 'The tournament is on June 1st, 2021.': name 'month' is not defined\n",
      "Error parsing date 'The tournament is on June 1st, 2021.': name 'month' is not defined\n",
      "Error parsing date 'The last date is 30th November 2022.': name 'month' is not defined\n",
      "Error parsing date 'The conference is on 15th October 2023.': name 'month' is not defined\n",
      "Error parsing date 'The festival is on 12th August 2024.': name 'month' is not defined\n",
      "Error parsing date 'We are planning to meet on March 5, 2023, for lunch.': name 'month' is not defined\n",
      "Error parsing date 'We are planning to meet on March 5, 2023, for lunch.': name 'month' is not defined\n",
      "Error parsing date 'We first met on the 1st of January 2000 at the conference.': name 'month' is not defined\n",
      "Error parsing date 'We first met on the 1st of January 2000 at the conference.': name 'month' is not defined\n",
      "Error parsing date 'The concert, happening on 15th September 2021, will be amazing.': name 'month' is not defined\n",
      "Error parsing date 'Let's wrap up the project by 5/6/19, so we can relax.': name 'ensure_full_year' is not defined\n",
      "Error parsing date 'The meeting is rescheduled to April 03, 2020, as per the latest update.': name 'month' is not defined\n",
      "Error parsing date 'The meeting is rescheduled to April 03, 2020, as per the latest update.': name 'month' is not defined\n",
      "Error parsing date 'Their anniversary is marked on the 2nd of March, 2021.': name 'month' is not defined\n",
      "Error parsing date 'They celebrated their wedding on 12/12/12 in grand style.': name 'ensure_full_year' is not defined\n",
      "Error parsing date 'Our next workshop is scheduled for February 15th, 2022.': name 'month' is not defined\n",
      "Error parsing date 'Our next workshop is scheduled for February 15th, 2022.': name 'month' is not defined\n",
      "Error parsing date 'The course officially begins on 1st July 2023.': name 'month' is not defined\n",
      "Error parsing date 'The holiday vacation starts on Dec 20th, 2021, for everyone.': name 'month' is not defined\n",
      "Error parsing date 'The holiday vacation starts on Dec 20th, 2021, for everyone.': name 'month' is not defined\n",
      "Error parsing date 'The conference, marked for 5th May 2023, is a significant event.': name 'month' is not defined\n",
      "Error parsing date 'Our festival starts on March 17, 2022, with a parade.': name 'month' is not defined\n",
      "Error parsing date 'Our festival starts on March 17, 2022, with a parade.': name 'month' is not defined\n",
      "Error parsing date 'Her graduation day is set for May 30th, 2022.': name 'month' is not defined\n",
      "Error parsing date 'Her graduation day is set for May 30th, 2022.': name 'month' is not defined\n",
      "Error parsing date 'The wedding is on 6th of August, 2020, in the evening.': name 'month' is not defined\n",
      "Error parsing date 'She mentioned she was born on the 3rd of March 1998.': name 'month' is not defined\n",
      "Error parsing date 'She mentioned she was born on the 3rd of March 1998.': name 'month' is not defined\n",
      "Error parsing date 'The next workshop is on February 29, 2024, due to the leap year.': name 'month' is not defined\n",
      "Error parsing date 'The next workshop is on February 29, 2024, due to the leap year.': name 'month' is not defined\n",
      "Error parsing date 'The tournament begins on June 1st, 2021, early in the morning.': name 'month' is not defined\n",
      "Error parsing date 'The tournament begins on June 1st, 2021, early in the morning.': name 'month' is not defined\n",
      "Error parsing date 'The final date for submission is 30th November 2022.': name 'month' is not defined\n",
      "Error parsing date 'The annual conference is on 15th October 2023, mark your calendars.': name 'month' is not defined\n",
      "Error parsing date 'The festival will be celebrated on 12th August 2024, with grand events.': name 'month' is not defined\n"
     ]
    }
   ],
   "source": [
    "# Apply the date parsing function\n",
    "df['parsed_date'] = df['Input'].apply(parse_date)"
   ]
  },
  {
   "cell_type": "code",
   "execution_count": 33,
   "metadata": {},
   "outputs": [
    {
     "name": "stdout",
     "output_type": "stream",
     "text": [
      "Correct Percentage: 0.51\n"
     ]
    }
   ],
   "source": [
    "# Calculate correct matches and accuracy\n",
    "def get_expected_output(input_text):\n",
    "    return df[df['Input'] == input_text]['Expected Output'].values[0]\n",
    "\n",
    "correct_count = 0\n",
    "for index in range(len(df)):\n",
    "    if get_expected_output(df['Input'][index]) == df['parsed_date'][index]:\n",
    "        correct_count += 1\n",
    "\n",
    "correct_percentage = correct_count / len(df)\n",
    "print(f'Correct Percentage: {correct_percentage:.2f}')"
   ]
  }
 ],
 "metadata": {
  "kernelspec": {
   "display_name": "Python 3",
   "language": "python",
   "name": "python3"
  },
  "language_info": {
   "codemirror_mode": {
    "name": "ipython",
    "version": 3
   },
   "file_extension": ".py",
   "mimetype": "text/x-python",
   "name": "python",
   "nbconvert_exporter": "python",
   "pygments_lexer": "ipython3",
   "version": "3.11.7"
  }
 },
 "nbformat": 4,
 "nbformat_minor": 2
}
